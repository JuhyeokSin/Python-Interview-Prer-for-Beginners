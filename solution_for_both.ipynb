{
 "cells": [
  {
   "cell_type": "markdown",
   "metadata": {},
   "source": [
    "## Create a solution for both problems"
   ]
  },
  {
   "cell_type": "code",
   "execution_count": 109,
   "metadata": {},
   "outputs": [],
   "source": [
    "import numpy as np\n",
    "import pandas as pd"
   ]
  },
  {
   "cell_type": "code",
   "execution_count": 110,
   "metadata": {},
   "outputs": [],
   "source": [
    "def csv_to_df(filename:str) -> pd.DataFrame:\n",
    "    return pd.read_csv(filename)"
   ]
  },
  {
   "cell_type": "code",
   "execution_count": 145,
   "metadata": {},
   "outputs": [],
   "source": [
    "def absolute_diff_of_two(df: pd.DataFrame, col_1: str, col_2: str) -> pd.Series:\n",
    "    return abs(df[col_1] - df[col_2])"
   ]
  },
  {
   "cell_type": "code",
   "execution_count": 146,
   "metadata": {},
   "outputs": [],
   "source": [
    "minimum_idx = lambda lst : lst.idxmin()"
   ]
  },
  {
   "cell_type": "code",
   "execution_count": 147,
   "metadata": {},
   "outputs": [],
   "source": [
    "def column_name(df: pd.DataFrame, col_name: str, idx: int) -> str:\n",
    "    return df[col_name][idx]"
   ]
  },
  {
   "cell_type": "code",
   "execution_count": 148,
   "metadata": {},
   "outputs": [],
   "source": [
    "def solution_for_both(df: pd.DataFrame, col_1: str, col_2: str, col_name: str) -> str:\n",
    "    abs_diff = absolute_diff_of_two(df, col_1, col_2)\n",
    "    min_idx = minimum_idx(abs_diff)\n",
    "    return column_name(df, col_name, min_idx)"
   ]
  },
  {
   "cell_type": "markdown",
   "metadata": {},
   "source": [
    "### Try the generic solution for the football problem"
   ]
  },
  {
   "cell_type": "code",
   "execution_count": 149,
   "metadata": {},
   "outputs": [],
   "source": [
    "football_filename = './football/football.csv'\n",
    "df_football = csv_to_df(football_filename)"
   ]
  },
  {
   "cell_type": "code",
   "execution_count": 150,
   "metadata": {},
   "outputs": [
    {
     "data": {
      "text/html": [
       "<div>\n",
       "<style scoped>\n",
       "    .dataframe tbody tr th:only-of-type {\n",
       "        vertical-align: middle;\n",
       "    }\n",
       "\n",
       "    .dataframe tbody tr th {\n",
       "        vertical-align: top;\n",
       "    }\n",
       "\n",
       "    .dataframe thead th {\n",
       "        text-align: right;\n",
       "    }\n",
       "</style>\n",
       "<table border=\"1\" class=\"dataframe\">\n",
       "  <thead>\n",
       "    <tr style=\"text-align: right;\">\n",
       "      <th></th>\n",
       "      <th>Team</th>\n",
       "      <th>Games</th>\n",
       "      <th>Wins</th>\n",
       "      <th>Losses</th>\n",
       "      <th>Draws</th>\n",
       "      <th>Goals</th>\n",
       "      <th>Goals Allowed</th>\n",
       "      <th>Points</th>\n",
       "    </tr>\n",
       "  </thead>\n",
       "  <tbody>\n",
       "    <tr>\n",
       "      <th>0</th>\n",
       "      <td>Arsenal</td>\n",
       "      <td>38</td>\n",
       "      <td>26</td>\n",
       "      <td>9</td>\n",
       "      <td>3</td>\n",
       "      <td>79</td>\n",
       "      <td>36</td>\n",
       "      <td>87</td>\n",
       "    </tr>\n",
       "    <tr>\n",
       "      <th>1</th>\n",
       "      <td>Liverpool</td>\n",
       "      <td>38</td>\n",
       "      <td>24</td>\n",
       "      <td>8</td>\n",
       "      <td>6</td>\n",
       "      <td>67</td>\n",
       "      <td>30</td>\n",
       "      <td>80</td>\n",
       "    </tr>\n",
       "    <tr>\n",
       "      <th>2</th>\n",
       "      <td>Manchester United</td>\n",
       "      <td>38</td>\n",
       "      <td>24</td>\n",
       "      <td>5</td>\n",
       "      <td>9</td>\n",
       "      <td>87</td>\n",
       "      <td>45</td>\n",
       "      <td>77</td>\n",
       "    </tr>\n",
       "    <tr>\n",
       "      <th>3</th>\n",
       "      <td>Newcastle</td>\n",
       "      <td>38</td>\n",
       "      <td>21</td>\n",
       "      <td>8</td>\n",
       "      <td>9</td>\n",
       "      <td>74</td>\n",
       "      <td>52</td>\n",
       "      <td>71</td>\n",
       "    </tr>\n",
       "    <tr>\n",
       "      <th>4</th>\n",
       "      <td>Leeds</td>\n",
       "      <td>38</td>\n",
       "      <td>18</td>\n",
       "      <td>12</td>\n",
       "      <td>8</td>\n",
       "      <td>53</td>\n",
       "      <td>37</td>\n",
       "      <td>66</td>\n",
       "    </tr>\n",
       "  </tbody>\n",
       "</table>\n",
       "</div>"
      ],
      "text/plain": [
       "                Team  Games  Wins  Losses  Draws  Goals  Goals Allowed  Points\n",
       "0            Arsenal     38    26       9      3     79             36      87\n",
       "1          Liverpool     38    24       8      6     67             30      80\n",
       "2  Manchester United     38    24       5      9     87             45      77\n",
       "3          Newcastle     38    21       8      9     74             52      71\n",
       "4              Leeds     38    18      12      8     53             37      66"
      ]
     },
     "execution_count": 150,
     "metadata": {},
     "output_type": "execute_result"
    }
   ],
   "source": [
    "df_football.head()"
   ]
  },
  {
   "cell_type": "code",
   "execution_count": 151,
   "metadata": {},
   "outputs": [
    {
     "data": {
      "text/plain": [
       "'Aston_Villa'"
      ]
     },
     "execution_count": 151,
     "metadata": {},
     "output_type": "execute_result"
    }
   ],
   "source": [
    "solution_for_both(df_football, 'Goals', 'Goals Allowed', 'Team')"
   ]
  },
  {
   "cell_type": "markdown",
   "metadata": {},
   "source": [
    "### Try the generic solution for the weather problem"
   ]
  },
  {
   "cell_type": "code",
   "execution_count": 152,
   "metadata": {},
   "outputs": [],
   "source": [
    "weather_filename = './weather/weather.csv'"
   ]
  },
  {
   "cell_type": "code",
   "execution_count": 153,
   "metadata": {},
   "outputs": [],
   "source": [
    "df_weather = csv_to_df(weather_filename)"
   ]
  },
  {
   "cell_type": "code",
   "execution_count": 154,
   "metadata": {},
   "outputs": [
    {
     "data": {
      "text/html": [
       "<div>\n",
       "<style scoped>\n",
       "    .dataframe tbody tr th:only-of-type {\n",
       "        vertical-align: middle;\n",
       "    }\n",
       "\n",
       "    .dataframe tbody tr th {\n",
       "        vertical-align: top;\n",
       "    }\n",
       "\n",
       "    .dataframe thead th {\n",
       "        text-align: right;\n",
       "    }\n",
       "</style>\n",
       "<table border=\"1\" class=\"dataframe\">\n",
       "  <thead>\n",
       "    <tr style=\"text-align: right;\">\n",
       "      <th></th>\n",
       "      <th>Day</th>\n",
       "      <th>MxT</th>\n",
       "      <th>MnT</th>\n",
       "      <th>AvT</th>\n",
       "      <th>AvDP</th>\n",
       "      <th>1HrP TPcpn</th>\n",
       "      <th>PDir</th>\n",
       "      <th>AvSp</th>\n",
       "      <th>Dir</th>\n",
       "      <th>MxS</th>\n",
       "      <th>SkyC</th>\n",
       "      <th>MxR</th>\n",
       "      <th>Mn</th>\n",
       "      <th>R AvSLP</th>\n",
       "    </tr>\n",
       "  </thead>\n",
       "  <tbody>\n",
       "    <tr>\n",
       "      <th>0</th>\n",
       "      <td>1</td>\n",
       "      <td>88</td>\n",
       "      <td>59</td>\n",
       "      <td>74</td>\n",
       "      <td>53.8</td>\n",
       "      <td>0</td>\n",
       "      <td>280</td>\n",
       "      <td>9.6</td>\n",
       "      <td>270</td>\n",
       "      <td>17</td>\n",
       "      <td>1.6</td>\n",
       "      <td>93</td>\n",
       "      <td>23</td>\n",
       "      <td>1004.5</td>\n",
       "    </tr>\n",
       "    <tr>\n",
       "      <th>1</th>\n",
       "      <td>2</td>\n",
       "      <td>79</td>\n",
       "      <td>63</td>\n",
       "      <td>71</td>\n",
       "      <td>46.5</td>\n",
       "      <td>0</td>\n",
       "      <td>330</td>\n",
       "      <td>8.7</td>\n",
       "      <td>340</td>\n",
       "      <td>23</td>\n",
       "      <td>3.3</td>\n",
       "      <td>70</td>\n",
       "      <td>28</td>\n",
       "      <td>1004.5</td>\n",
       "    </tr>\n",
       "    <tr>\n",
       "      <th>2</th>\n",
       "      <td>3</td>\n",
       "      <td>77</td>\n",
       "      <td>55</td>\n",
       "      <td>66</td>\n",
       "      <td>39.6</td>\n",
       "      <td>0</td>\n",
       "      <td>350</td>\n",
       "      <td>5.0</td>\n",
       "      <td>350</td>\n",
       "      <td>9</td>\n",
       "      <td>2.8</td>\n",
       "      <td>59</td>\n",
       "      <td>24</td>\n",
       "      <td>1016.8</td>\n",
       "    </tr>\n",
       "    <tr>\n",
       "      <th>3</th>\n",
       "      <td>4</td>\n",
       "      <td>77</td>\n",
       "      <td>59</td>\n",
       "      <td>68</td>\n",
       "      <td>51.1</td>\n",
       "      <td>0</td>\n",
       "      <td>110</td>\n",
       "      <td>9.1</td>\n",
       "      <td>130</td>\n",
       "      <td>12</td>\n",
       "      <td>8.6</td>\n",
       "      <td>62</td>\n",
       "      <td>40</td>\n",
       "      <td>1021.1</td>\n",
       "    </tr>\n",
       "    <tr>\n",
       "      <th>4</th>\n",
       "      <td>5</td>\n",
       "      <td>90</td>\n",
       "      <td>66</td>\n",
       "      <td>78</td>\n",
       "      <td>68.3</td>\n",
       "      <td>0</td>\n",
       "      <td>220</td>\n",
       "      <td>8.3</td>\n",
       "      <td>260</td>\n",
       "      <td>12</td>\n",
       "      <td>6.9</td>\n",
       "      <td>84</td>\n",
       "      <td>55</td>\n",
       "      <td>1014.4</td>\n",
       "    </tr>\n",
       "  </tbody>\n",
       "</table>\n",
       "</div>"
      ],
      "text/plain": [
       "   Day  MxT  MnT  AvT  AvDP  1HrP TPcpn  PDir  AvSp  Dir  MxS  SkyC  MxR  Mn  \\\n",
       "0    1   88   59   74  53.8           0   280   9.6  270   17   1.6   93  23   \n",
       "1    2   79   63   71  46.5           0   330   8.7  340   23   3.3   70  28   \n",
       "2    3   77   55   66  39.6           0   350   5.0  350    9   2.8   59  24   \n",
       "3    4   77   59   68  51.1           0   110   9.1  130   12   8.6   62  40   \n",
       "4    5   90   66   78  68.3           0   220   8.3  260   12   6.9   84  55   \n",
       "\n",
       "   R AvSLP  \n",
       "0   1004.5  \n",
       "1   1004.5  \n",
       "2   1016.8  \n",
       "3   1021.1  \n",
       "4   1014.4  "
      ]
     },
     "execution_count": 154,
     "metadata": {},
     "output_type": "execute_result"
    }
   ],
   "source": [
    "df_weather.head()"
   ]
  },
  {
   "cell_type": "code",
   "execution_count": 155,
   "metadata": {},
   "outputs": [
    {
     "data": {
      "text/plain": [
       "14"
      ]
     },
     "execution_count": 155,
     "metadata": {},
     "output_type": "execute_result"
    }
   ],
   "source": [
    "solution_for_both(df_weather, 'MxT', 'MnT', 'Day')"
   ]
  },
  {
   "cell_type": "code",
   "execution_count": null,
   "metadata": {},
   "outputs": [],
   "source": []
  },
  {
   "cell_type": "code",
   "execution_count": null,
   "metadata": {},
   "outputs": [],
   "source": []
  }
 ],
 "metadata": {
  "kernelspec": {
   "display_name": "Python 3",
   "language": "python",
   "name": "python3"
  },
  "language_info": {
   "codemirror_mode": {
    "name": "ipython",
    "version": 3
   },
   "file_extension": ".py",
   "mimetype": "text/x-python",
   "name": "python",
   "nbconvert_exporter": "python",
   "pygments_lexer": "ipython3",
   "version": "3.7.3"
  }
 },
 "nbformat": 4,
 "nbformat_minor": 2
}
