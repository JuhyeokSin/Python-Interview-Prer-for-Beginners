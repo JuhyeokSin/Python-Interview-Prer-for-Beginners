{
 "cells": [
  {
   "cell_type": "markdown",
   "metadata": {},
   "source": [
    "## Part 2: Weather\n",
    "\n",
    "### In weather.csv you’ll find daily weather data. \n",
    "\n",
    "### Write a program to read the file, then output the day number (column one) with the smallest temperature spread (the maximum temperature is the second column, the minimum the third column)."
   ]
  },
  {
   "cell_type": "code",
   "execution_count": 2,
   "metadata": {},
   "outputs": [],
   "source": [
    "import pandas as pd\n",
    "import numpy as np"
   ]
  },
  {
   "cell_type": "markdown",
   "metadata": {},
   "source": [
    "### Read CSV file, weather.csv"
   ]
  },
  {
   "cell_type": "code",
   "execution_count": 5,
   "metadata": {},
   "outputs": [
    {
     "data": {
      "text/plain": [
       "pandas.core.frame.DataFrame"
      ]
     },
     "execution_count": 5,
     "metadata": {},
     "output_type": "execute_result"
    }
   ],
   "source": [
    "weather_df = pd.read_csv('weather.csv')\n",
    "type(weather_df)"
   ]
  },
  {
   "cell_type": "code",
   "execution_count": 7,
   "metadata": {},
   "outputs": [
    {
     "data": {
      "text/html": [
       "<div>\n",
       "<style scoped>\n",
       "    .dataframe tbody tr th:only-of-type {\n",
       "        vertical-align: middle;\n",
       "    }\n",
       "\n",
       "    .dataframe tbody tr th {\n",
       "        vertical-align: top;\n",
       "    }\n",
       "\n",
       "    .dataframe thead th {\n",
       "        text-align: right;\n",
       "    }\n",
       "</style>\n",
       "<table border=\"1\" class=\"dataframe\">\n",
       "  <thead>\n",
       "    <tr style=\"text-align: right;\">\n",
       "      <th></th>\n",
       "      <th>Day</th>\n",
       "      <th>MxT</th>\n",
       "      <th>MnT</th>\n",
       "      <th>AvT</th>\n",
       "      <th>AvDP</th>\n",
       "      <th>1HrP TPcpn</th>\n",
       "      <th>PDir</th>\n",
       "      <th>AvSp</th>\n",
       "      <th>Dir</th>\n",
       "      <th>MxS</th>\n",
       "      <th>SkyC</th>\n",
       "      <th>MxR</th>\n",
       "      <th>Mn</th>\n",
       "      <th>R AvSLP</th>\n",
       "    </tr>\n",
       "  </thead>\n",
       "  <tbody>\n",
       "    <tr>\n",
       "      <th>0</th>\n",
       "      <td>1</td>\n",
       "      <td>88</td>\n",
       "      <td>59</td>\n",
       "      <td>74</td>\n",
       "      <td>53.8</td>\n",
       "      <td>0</td>\n",
       "      <td>280</td>\n",
       "      <td>9.6</td>\n",
       "      <td>270</td>\n",
       "      <td>17</td>\n",
       "      <td>1.6</td>\n",
       "      <td>93</td>\n",
       "      <td>23</td>\n",
       "      <td>1004.5</td>\n",
       "    </tr>\n",
       "    <tr>\n",
       "      <th>1</th>\n",
       "      <td>2</td>\n",
       "      <td>79</td>\n",
       "      <td>63</td>\n",
       "      <td>71</td>\n",
       "      <td>46.5</td>\n",
       "      <td>0</td>\n",
       "      <td>330</td>\n",
       "      <td>8.7</td>\n",
       "      <td>340</td>\n",
       "      <td>23</td>\n",
       "      <td>3.3</td>\n",
       "      <td>70</td>\n",
       "      <td>28</td>\n",
       "      <td>1004.5</td>\n",
       "    </tr>\n",
       "    <tr>\n",
       "      <th>2</th>\n",
       "      <td>3</td>\n",
       "      <td>77</td>\n",
       "      <td>55</td>\n",
       "      <td>66</td>\n",
       "      <td>39.6</td>\n",
       "      <td>0</td>\n",
       "      <td>350</td>\n",
       "      <td>5.0</td>\n",
       "      <td>350</td>\n",
       "      <td>9</td>\n",
       "      <td>2.8</td>\n",
       "      <td>59</td>\n",
       "      <td>24</td>\n",
       "      <td>1016.8</td>\n",
       "    </tr>\n",
       "    <tr>\n",
       "      <th>3</th>\n",
       "      <td>4</td>\n",
       "      <td>77</td>\n",
       "      <td>59</td>\n",
       "      <td>68</td>\n",
       "      <td>51.1</td>\n",
       "      <td>0</td>\n",
       "      <td>110</td>\n",
       "      <td>9.1</td>\n",
       "      <td>130</td>\n",
       "      <td>12</td>\n",
       "      <td>8.6</td>\n",
       "      <td>62</td>\n",
       "      <td>40</td>\n",
       "      <td>1021.1</td>\n",
       "    </tr>\n",
       "    <tr>\n",
       "      <th>4</th>\n",
       "      <td>5</td>\n",
       "      <td>90</td>\n",
       "      <td>66</td>\n",
       "      <td>78</td>\n",
       "      <td>68.3</td>\n",
       "      <td>0</td>\n",
       "      <td>220</td>\n",
       "      <td>8.3</td>\n",
       "      <td>260</td>\n",
       "      <td>12</td>\n",
       "      <td>6.9</td>\n",
       "      <td>84</td>\n",
       "      <td>55</td>\n",
       "      <td>1014.4</td>\n",
       "    </tr>\n",
       "  </tbody>\n",
       "</table>\n",
       "</div>"
      ],
      "text/plain": [
       "   Day  MxT  MnT  AvT  AvDP  1HrP TPcpn  PDir  AvSp  Dir  MxS  SkyC  MxR  Mn  \\\n",
       "0    1   88   59   74  53.8           0   280   9.6  270   17   1.6   93  23   \n",
       "1    2   79   63   71  46.5           0   330   8.7  340   23   3.3   70  28   \n",
       "2    3   77   55   66  39.6           0   350   5.0  350    9   2.8   59  24   \n",
       "3    4   77   59   68  51.1           0   110   9.1  130   12   8.6   62  40   \n",
       "4    5   90   66   78  68.3           0   220   8.3  260   12   6.9   84  55   \n",
       "\n",
       "   R AvSLP  \n",
       "0   1004.5  \n",
       "1   1004.5  \n",
       "2   1016.8  \n",
       "3   1021.1  \n",
       "4   1014.4  "
      ]
     },
     "execution_count": 7,
     "metadata": {},
     "output_type": "execute_result"
    }
   ],
   "source": [
    "weather_df.head()"
   ]
  },
  {
   "cell_type": "code",
   "execution_count": 9,
   "metadata": {},
   "outputs": [],
   "source": [
    "def smallest_temp_spread_day_idx(dataFrame):\n",
    "    temp_spread = abs(weather_df['MxT'] - weather_df['MnT'])\n",
    "    return temp_spread.idxmin()"
   ]
  },
  {
   "cell_type": "code",
   "execution_count": 10,
   "metadata": {},
   "outputs": [
    {
     "data": {
      "text/plain": [
       "14"
      ]
     },
     "execution_count": 10,
     "metadata": {},
     "output_type": "execute_result"
    }
   ],
   "source": [
    "weather_df['Day'][smallest_temp_spread_day_idx(weather_df)]"
   ]
  },
  {
   "cell_type": "code",
   "execution_count": null,
   "metadata": {},
   "outputs": [],
   "source": []
  }
 ],
 "metadata": {
  "kernelspec": {
   "display_name": "Python 3",
   "language": "python",
   "name": "python3"
  },
  "language_info": {
   "codemirror_mode": {
    "name": "ipython",
    "version": 3
   },
   "file_extension": ".py",
   "mimetype": "text/x-python",
   "name": "python",
   "nbconvert_exporter": "python",
   "pygments_lexer": "ipython3",
   "version": "3.7.3"
  }
 },
 "nbformat": 4,
 "nbformat_minor": 2
}
